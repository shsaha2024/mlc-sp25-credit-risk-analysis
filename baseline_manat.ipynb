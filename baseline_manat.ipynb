{
 "cells": [
  {
   "cell_type": "code",
   "execution_count": 2,
   "metadata": {},
   "outputs": [],
   "source": [
    "import pandas as pd\n",
    "import numpy as np\n",
    "from sklearn.model_selection import train_test_split, RandomizedSearchCV\n",
    "from sklearn.impute import SimpleImputer\n",
    "from sklearn.linear_model import LogisticRegression\n",
    "from sklearn.linear_model import LinearRegression\n",
    "from sklearn.pipeline import Pipeline\n",
    "from sklearn.metrics import roc_auc_score, accuracy_score\n",
    "from datetime import timedelta\n",
    "from xgboost import XGBClassifier\n",
    "import os\n",
    "from scipy.stats import entropy\n",
    "from scipy.stats import uniform, randint\n",
    "\n",
    "import sys\n",
    "init_dir = os.getcwd()"
   ]
  },
  {
   "cell_type": "code",
   "execution_count": 3,
   "metadata": {},
   "outputs": [],
   "source": [
    "consumer_df = pd.read_parquet(init_dir + '/cashflow-data/consumer_data.parquet')\n",
    "transactions = pd.read_parquet(init_dir + '/cashflow-data/transactions.parquet')"
   ]
  },
  {
   "cell_type": "code",
   "execution_count": 4,
   "metadata": {},
   "outputs": [],
   "source": [
    "consumer_df['evaluation_date'] = pd.to_datetime(consumer_df['evaluation_date'])\n",
    "transactions['posted_date'] = pd.to_datetime(transactions['posted_date'])"
   ]
  },
  {
   "cell_type": "code",
   "execution_count": 5,
   "metadata": {},
   "outputs": [],
   "source": [
    "# Step 1: Filter transactions to only those before or on the evaluation date\n",
    "transactions_df = transactions.merge(\n",
    "    consumer_df[['masked_consumer_id', 'evaluation_date']],\n",
    "    on='masked_consumer_id',\n",
    "    how='left'\n",
    ")\n",
    "transactions_df = transactions_df[transactions_df['posted_date'] < transactions_df['evaluation_date']]"
   ]
  },
  {
   "cell_type": "code",
   "execution_count": 6,
   "metadata": {},
   "outputs": [
    {
     "name": "stderr",
     "output_type": "stream",
     "text": [
      "C:\\Users\\manat\\AppData\\Local\\Temp\\ipykernel_2280\\2566243800.py:81: DeprecationWarning: DataFrameGroupBy.apply operated on the grouping columns. This behavior is deprecated, and in a future version of pandas the grouping columns will be excluded from the operation. Either pass `include_groups=False` to exclude the groupings or explicitly select the grouping columns after groupby to silence this warning.\n",
      "  monthly_trend = monthly_spend.groupby('masked_consumer_id').apply(compute_monthly_trend).rename('monthly_spend_trend')\n"
     ]
    }
   ],
   "source": [
    "# Step 2: Feature Engineering\n",
    "# Create debit/credit indicators\n",
    "transactions_df['is_credit'] = transactions_df['amount'] > 0\n",
    "transactions_df['is_debit'] = transactions_df['amount'] < 0\n",
    "\n",
    "# Compute aggregate features\n",
    "agg = transactions_df.groupby('masked_consumer_id').agg(\n",
    "    total_amount=('amount', 'sum'),\n",
    "    mean_amount=('amount', 'mean'),\n",
    "    std_amount=('amount', 'std'),\n",
    "    min_amount=('amount', 'min'),\n",
    "    max_amount=('amount', 'max'),\n",
    "    median_amount=('amount', 'median'),\n",
    "    transaction_count=('amount', 'count'),\n",
    "    credit_sum=('is_credit', lambda x: transactions_df.loc[x.index, 'amount'][x].sum()),\n",
    "    debit_sum=('is_debit', lambda x: abs(transactions_df.loc[x.index, 'amount'][x].sum()))\n",
    ")\n",
    "\n",
    "# Ratio of credits to debits\n",
    "agg['credit_debit_ratio'] = agg['credit_sum'] / agg['debit_sum'].replace(0, np.nan)\n",
    "agg['credit_debit_ratio'] = agg['credit_debit_ratio'].fillna(0)\n",
    "\n",
    "# Recent 30-day transaction features\n",
    "transactions_df['days_before_eval'] = (transactions_df['evaluation_date'] - transactions_df['posted_date']).dt.days\n",
    "recent_df = transactions_df[transactions_df['days_before_eval'] <= 30].groupby('masked_consumer_id').agg(\n",
    "    recent30_sum=('amount', 'sum'),\n",
    "    recent30_count=('amount', 'count')\n",
    ")\n",
    "\n",
    "# Monthly cashflow volatility: std / mean\n",
    "transactions_df['month'] = transactions_df['posted_date'].dt.to_period('M')\n",
    "monthly_cashflow = transactions_df.groupby(['masked_consumer_id', 'month'])['amount'].sum().reset_index()\n",
    "monthly_stats = monthly_cashflow.groupby('masked_consumer_id')['amount'].agg(['mean', 'std']).rename(\n",
    "    columns={'mean': 'monthly_mean', 'std': 'monthly_std'}\n",
    ")\n",
    "monthly_stats['monthly_cv'] = monthly_stats['monthly_std'] / monthly_stats['monthly_mean'].replace(0, np.nan)\n",
    "monthly_stats = monthly_stats.fillna(0)\n",
    "\n",
    "# category\n",
    "cat_encode = pd.get_dummies(transactions_df, columns = ['category'], drop_first = False)\n",
    "cat_encode.rename(columns = {f\"category_{i}.0\": f\"category_{i}_mean\" for i in range(36)}, inplace = True)\n",
    "cat_encode_mean = cat_encode.groupby('masked_consumer_id').agg({f\"category_{i}_mean\": 'sum' for i in range(36)})\n",
    "\n",
    "\n",
    "# weekend vs weekday transactions\n",
    "transactions_df['weekday'] = transactions_df['posted_date'].dt.weekday\n",
    "transactions_df['is_weekend'] = transactions_df['weekday'] >= 5\n",
    "\n",
    "weekend_spend = transactions_df[transactions_df['amount'] > 0].groupby(['masked_consumer_id', 'is_weekend'])['amount'].sum().unstack(fill_value=0)\n",
    "weekend_spend.columns = ['weekday_spending', 'weekend_spending']\n",
    "weekend_spend['weekend_ratio'] = weekend_spend['weekend_spending'] / (weekend_spend['weekday_spending'] + 1e-6)\n",
    "\n",
    "# Transaction frequency and span\n",
    "txn_freq = transactions_df.groupby('masked_consumer_id').agg(\n",
    "    unique_txn_days=('posted_date', lambda x: x.nunique()),\n",
    "    txn_days_span=('posted_date', lambda x: (x.max() - x.min()).days + 1),\n",
    ")\n",
    "txn_freq['txn_per_day'] = txn_freq['unique_txn_days'] / txn_freq['txn_days_span'].replace(0, 1)\n",
    "\n",
    "# percentiles of transaction amounts\n",
    "percentiles = transactions_df.groupby('masked_consumer_id')['amount'].quantile([0.25, 0.75, 0.9]).unstack()\n",
    "percentiles.columns = ['amount_25pct', 'amount_75pct', 'amount_90pct']\n",
    "\n",
    "# number of large transactions\n",
    "threshold = 1000  \n",
    "transactions_df['is_large'] = transactions_df['amount'].abs() > threshold\n",
    "large_txns = transactions_df.groupby('masked_consumer_id')['is_large'].sum().rename('large_txn_count')\n",
    "\n",
    "# general trendline of monthly transactions\n",
    "monthly_spend = transactions_df.groupby(['masked_consumer_id', 'month'])['amount'].sum().reset_index()\n",
    "monthly_spend['month'] = monthly_spend['month'].dt.to_timestamp()  \n",
    "\n",
    "def compute_monthly_trend(df):\n",
    "    if df.shape[0] < 2:\n",
    "        return 0 \n",
    "    df = df.sort_values('month')\n",
    "    x = (df['month'] - df['month'].min()).dt.days.values.reshape(-1, 1)\n",
    "    y = df['amount'].values\n",
    "    model = LinearRegression().fit(x, y)\n",
    "    return model.coef_[0] \n",
    "monthly_trend = monthly_spend.groupby('masked_consumer_id').apply(compute_monthly_trend).rename('monthly_spend_trend')\n",
    "\n",
    "# Merge all features\n",
    "features_df = consumer_df.set_index('masked_consumer_id') \\\n",
    "    .join(agg, how='left') \\\n",
    "    .join(recent_df, how='left') \\\n",
    "    .join(monthly_stats, how='left') \\\n",
    "    .join(cat_encode_mean, how='left') \\\n",
    "    .join(txn_freq, how='left') \\\n",
    "    .join(weekend_spend, how='left') \\\n",
    "    .join(large_txns, how='left') \\\n",
    "    .join(monthly_trend, how='left') \\\n",
    "    .fillna(0)"
   ]
  },
  {
   "cell_type": "code",
   "execution_count": 7,
   "metadata": {},
   "outputs": [],
   "source": [
    "\n",
    "# # Step 3: Train-Test Split\n",
    "# X = features_df.drop(columns=['FPF_TARGET', 'evaluation_date'])\n",
    "# y = features_df['FPF_TARGET']\n",
    "# X_train, X_val, y_train, y_val = train_test_split(X, y, stratify=y, test_size=0.1, random_state=42)\n",
    "# X_train, X_test, y_train, y_test = train_test_split(X_train, y_train, stratify=y_train, test_size=2/9, random_state=42)\n",
    "\n",
    "# # Define pipeline\n",
    "# pipeline = Pipeline([\n",
    "#     ('imputer', SimpleImputer(strategy='mean')),\n",
    "#     ('model', XGBClassifier(use_label_encoder=False, random_state=42))\n",
    "# ])\n",
    "\n",
    "# # Hyperparameter grid\n",
    "# param_distributions = {\n",
    "#     'model__n_estimators': randint(100, 500),\n",
    "#     'model__learning_rate': uniform(0.01, 0.2),\n",
    "#     'model__max_depth': randint(3, 10),\n",
    "# }\n",
    "\n",
    "# # Randomized search\n",
    "# search = RandomizedSearchCV(\n",
    "#     pipeline,\n",
    "#     param_distributions=param_distributions,\n",
    "#     n_iter=50,\n",
    "#     scoring='roc_auc',\n",
    "#     n_jobs=-1,\n",
    "#     cv=3,\n",
    "#     random_state=42,\n",
    "#     verbose=1\n",
    "# )\n",
    "\n",
    "# # Fit model\n",
    "# search.fit(X_train, y_train)\n",
    "\n",
    "# # Best model and evaluation\n",
    "# best_model = search.best_estimator_\n",
    "# y_train_pred = best_model.predict_proba(X_train)[:, 1]\n",
    "# y_val_pred = best_model.predict_proba(X_val)[:, 1]\n",
    "# train_auc = roc_auc_score(y_train, y_train_pred)\n",
    "# val_auc = roc_auc_score(y_val, y_val_pred )\n",
    "# y_test_pred = best_model.predict_proba(X_test)[:, 1]\n",
    "# test_auc = roc_auc_score(y_test, y_test_pred)\n",
    "\n",
    "# print(f\"Best Parameters: {search.best_params_}\")\n",
    "# print(f\"Train AUC: {train_auc:.4f}, Validation AUC: {val_auc:.4f}\")\n",
    "# print(f\"Test AUC: {test_auc:.4f}\")"
   ]
  },
  {
   "cell_type": "code",
   "execution_count": 8,
   "metadata": {},
   "outputs": [
    {
     "name": "stdout",
     "output_type": "stream",
     "text": [
      "Train AUC: 0.9436, Validation AUC: 0.8931\n"
     ]
    }
   ],
   "source": [
    "from sklearn.metrics import classification_report\n",
    "# Step 3: Train-Test Split\n",
    "\n",
    "X = features_df.drop(columns=['FPF_TARGET', 'evaluation_date'])\n",
    "y = features_df['FPF_TARGET']\n",
    "X_train, X_val, y_train, y_val = train_test_split(X, y, stratify=y, test_size=0.20, random_state=42)\n",
    "# Step 4: Pipeline with Imputation and Logistic Regression\n",
    "pipeline = Pipeline([\n",
    "    ('imputer', SimpleImputer(strategy='mean')),\n",
    "    ('model', XGBClassifier(n_estimators=400, learning_rate=0.05, random_state=42,  max_depth = 3))\n",
    "])\n",
    "\n",
    "pipeline.fit(X_train, y_train)\n",
    "y_train_pred = pipeline.predict_proba(X_train)[:, 1]\n",
    "y_val_pred = pipeline.predict_proba(X_val)[:, 1]\n",
    "train_auc = roc_auc_score(y_train, y_train_pred) \n",
    "val_auc = roc_auc_score(y_val, y_val_pred)\n",
    "print(f\"Train AUC: {train_auc:.4f}, Validation AUC: {val_auc:.4f}\")\n"
   ]
  },
  {
   "cell_type": "code",
   "execution_count": 17,
   "metadata": {},
   "outputs": [
    {
     "data": {
      "text/plain": [
       "Index(['total_balance', 'total_amount', 'mean_amount', 'std_amount',\n",
       "       'min_amount', 'max_amount', 'median_amount', 'transaction_count',\n",
       "       'credit_sum', 'debit_sum', 'credit_debit_ratio', 'recent30_sum',\n",
       "       'recent30_count', 'monthly_mean', 'monthly_std', 'monthly_cv',\n",
       "       'category_0_mean', 'category_1_mean', 'category_2_mean',\n",
       "       'category_3_mean', 'category_4_mean', 'category_5_mean',\n",
       "       'category_6_mean', 'category_7_mean', 'category_8_mean',\n",
       "       'category_9_mean', 'category_10_mean', 'category_11_mean',\n",
       "       'category_12_mean', 'category_13_mean', 'category_14_mean',\n",
       "       'category_15_mean', 'category_16_mean', 'category_17_mean',\n",
       "       'category_18_mean', 'category_19_mean', 'category_20_mean',\n",
       "       'category_21_mean', 'category_22_mean', 'category_23_mean',\n",
       "       'category_24_mean', 'category_25_mean', 'category_26_mean',\n",
       "       'category_27_mean', 'category_28_mean', 'category_29_mean',\n",
       "       'category_30_mean', 'category_31_mean', 'category_32_mean',\n",
       "       'category_33_mean', 'category_34_mean', 'category_35_mean',\n",
       "       'unique_txn_days', 'txn_days_span', 'txn_per_day', 'weekday_spending',\n",
       "       'weekend_spending', 'weekend_ratio', 'large_txn_count',\n",
       "       'monthly_spend_trend'],\n",
       "      dtype='object')"
      ]
     },
     "execution_count": 17,
     "metadata": {},
     "output_type": "execute_result"
    }
   ],
   "source": [
    "X.columns"
   ]
  },
  {
   "cell_type": "code",
   "execution_count": 9,
   "metadata": {},
   "outputs": [],
   "source": [
    "import xgboost as xgb\n",
    "models = xgb.Booster({'nthread': 4})  # init model\n",
    "models.load_model('baseline_model.json')"
   ]
  },
  {
   "cell_type": "code",
   "execution_count": 16,
   "metadata": {},
   "outputs": [
    {
     "data": {
      "text/plain": [
       "0.8930843439829319"
      ]
     },
     "execution_count": 16,
     "metadata": {},
     "output_type": "execute_result"
    }
   ],
   "source": [
    "x_preds = models.predict(xgb.DMatrix(X_val))\n",
    "roc_auc_score(y_val, x_preds)"
   ]
  },
  {
   "cell_type": "code",
   "execution_count": 10,
   "metadata": {},
   "outputs": [],
   "source": [
    "pipeline['model'].save_model('baseline_model.json')"
   ]
  },
  {
   "cell_type": "code",
   "execution_count": 11,
   "metadata": {},
   "outputs": [
    {
     "data": {
      "text/plain": [
       "<Axes: >"
      ]
     },
     "execution_count": 11,
     "metadata": {},
     "output_type": "execute_result"
    },
    {
     "data": {
      "image/png": "[encoded data removed]",
      "text/plain": [
       "<Figure size 2000x1000 with 1 Axes>"
      ]
     },
     "metadata": {},
     "output_type": "display_data"
    }
   ],
   "source": [
    "feature_important = pipeline['model'].get_booster().get_score(importance_type='gain')\n",
    "keys = list(feature_important.keys())\n",
    "values = list(feature_important.values())\n",
    "\n",
    "data = pd.DataFrame(data=values, index=keys, columns=[\"score\"]).sort_values(by = \"score\", ascending=False)\n",
    "data.nlargest(60, columns=\"score\").plot(kind='barh', figsize = (20,10)) "
   ]
  },
  {
   "cell_type": "code",
   "execution_count": 12,
   "metadata": {},
   "outputs": [
    {
     "name": "stdout",
     "output_type": "stream",
     "text": [
      "txn_days_span\n",
      "category_26_mean\n",
      "category_11_mean\n",
      "total_balance\n",
      "median_amount\n",
      "category_13_mean\n",
      "category_10_mean\n",
      "monthly_spend_trend\n",
      "weekend_ratio\n",
      "monthly_std\n",
      "category_9_mean\n",
      "transaction_count\n",
      "category_23_mean\n",
      "category_6_mean\n",
      "category_14_mean\n",
      "weekend_spending\n",
      "category_2_mean\n",
      "txn_per_day\n",
      "category_1_mean\n",
      "category_34_mean\n",
      "category_4_mean\n",
      "category_18_mean\n",
      "large_txn_count\n",
      "category_5_mean\n",
      "category_12_mean\n",
      "category_20_mean\n",
      "category_8_mean\n",
      "category_27_mean\n",
      "recent30_sum\n",
      "category_3_mean\n",
      "recent30_count\n",
      "category_22_mean\n",
      "min_amount\n",
      "category_24_mean\n",
      "std_amount\n",
      "credit_debit_ratio\n",
      "category_0_mean\n",
      "max_amount\n",
      "category_17_mean\n",
      "category_15_mean\n",
      "unique_txn_days\n",
      "category_19_mean\n",
      "category_35_mean\n",
      "category_21_mean\n",
      "total_amount\n",
      "monthly_mean\n",
      "category_29_mean\n",
      "mean_amount\n",
      "category_7_mean\n",
      "category_16_mean\n",
      "credit_sum\n",
      "category_25_mean\n",
      "category_28_mean\n",
      "debit_sum\n",
      "monthly_cv\n",
      "category_30_mean\n",
      "weekday_spending\n",
      "category_33_mean\n",
      "category_32_mean\n"
     ]
    }
   ],
   "source": [
    "for x in data.index:\n",
    "    print(X_train.columns[int(x[1:])]) "
   ]
  },
  {
   "cell_type": "code",
   "execution_count": 13,
   "metadata": {},
   "outputs": [
    {
     "name": "stdout",
     "output_type": "stream",
     "text": [
      "Val AUC for category 1: 0.8389\n",
      "Val AUC for category 2: 0.6757\n",
      "Val AUC for category 3: 0.6905\n",
      "Val AUC for category 4: 0.6476\n"
     ]
    }
   ],
   "source": [
    "categories_val = []\n",
    "for x in [1,2,3,4]:\n",
    "    cur_features = features_df[features_df.index.str[2] == str(x)].drop(columns=['FPF_TARGET', 'evaluation_date'])\n",
    "    y_val_pred = pipeline.predict_proba(X_val[X_val.index.str[2] == str(x)])[:, 1]\n",
    "    categories_val.append(roc_auc_score(y_val[y_val.index.str[2] == str(x)], y_val_pred))\n",
    "    print(f'Val AUC for category {x}: {categories_val[-1]:.4f}')"
   ]
  },
  {
   "cell_type": "code",
   "execution_count": 14,
   "metadata": {},
   "outputs": [
    {
     "data": {
      "text/plain": [
       "masked_consumer_id\n",
       "C01100001     9.0\n",
       "C01100002    13.0\n",
       "C01100003     0.0\n",
       "C01100004     0.0\n",
       "C01100005     0.0\n",
       "             ... \n",
       "C04104996    21.0\n",
       "C04104997     0.0\n",
       "C04104998     0.0\n",
       "C04104999     0.0\n",
       "C04105000     0.0\n",
       "Name: category_5_mean, Length: 16000, dtype: float64"
      ]
     },
     "execution_count": 14,
     "metadata": {},
     "output_type": "execute_result"
    }
   ],
   "source": [
    "features_df['category_5_mean']"
   ]
  },
  {
   "cell_type": "markdown",
   "metadata": {},
   "source": []
  }
 ],
 "metadata": {
  "kernelspec": {
   "display_name": "Python 3 (ipykernel)",
   "language": "python",
   "name": "python3"
  },
  "language_info": {
   "codemirror_mode": {
    "name": "ipython",
    "version": 3
   },
   "file_extension": ".py",
   "mimetype": "text/x-python",
   "name": "python",
   "nbconvert_exporter": "python",
   "pygments_lexer": "ipython3",
   "version": "3.11.7"
  }
 },
 "nbformat": 4,
 "nbformat_minor": 4
}
